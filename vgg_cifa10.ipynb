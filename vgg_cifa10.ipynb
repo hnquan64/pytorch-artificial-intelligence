{
  "nbformat": 4,
  "nbformat_minor": 0,
  "metadata": {
    "accelerator": "GPU",
    "colab": {
      "name": "Problem1_AI.ipynb",
      "provenance": [],
      "collapsed_sections": [],
      "machine_shape": "hm"
    },
    "kernelspec": {
      "display_name": "Python 3",
      "name": "python3"
    },
    "language_info": {
      "name": "python"
    },
    "widgets": {
      "application/vnd.jupyter.widget-state+json": {
        "0b637c4590ac4064bba86d45c4f250a0": {
          "model_module": "@jupyter-widgets/controls",
          "model_name": "HBoxModel",
          "state": {
            "_view_name": "HBoxView",
            "_dom_classes": [],
            "_model_name": "HBoxModel",
            "_view_module": "@jupyter-widgets/controls",
            "_model_module_version": "1.5.0",
            "_view_count": null,
            "_view_module_version": "1.5.0",
            "box_style": "",
            "layout": "IPY_MODEL_4056cb4a979943648bcf4bf3f1b3248d",
            "_model_module": "@jupyter-widgets/controls",
            "children": [
              "IPY_MODEL_6b88ba4443764c9a8db291f5503e537d",
              "IPY_MODEL_b4c0c27f732449c6b6ea03e7ba066af7"
            ]
          }
        },
        "4056cb4a979943648bcf4bf3f1b3248d": {
          "model_module": "@jupyter-widgets/base",
          "model_name": "LayoutModel",
          "state": {
            "_view_name": "LayoutView",
            "grid_template_rows": null,
            "right": null,
            "justify_content": null,
            "_view_module": "@jupyter-widgets/base",
            "overflow": null,
            "_model_module_version": "1.2.0",
            "_view_count": null,
            "flex_flow": null,
            "width": null,
            "min_width": null,
            "border": null,
            "align_items": null,
            "bottom": null,
            "_model_module": "@jupyter-widgets/base",
            "top": null,
            "grid_column": null,
            "overflow_y": null,
            "overflow_x": null,
            "grid_auto_flow": null,
            "grid_area": null,
            "grid_template_columns": null,
            "flex": null,
            "_model_name": "LayoutModel",
            "justify_items": null,
            "grid_row": null,
            "max_height": null,
            "align_content": null,
            "visibility": null,
            "align_self": null,
            "height": null,
            "min_height": null,
            "padding": null,
            "grid_auto_rows": null,
            "grid_gap": null,
            "max_width": null,
            "order": null,
            "_view_module_version": "1.2.0",
            "grid_template_areas": null,
            "object_position": null,
            "object_fit": null,
            "grid_auto_columns": null,
            "margin": null,
            "display": null,
            "left": null
          }
        },
        "6b88ba4443764c9a8db291f5503e537d": {
          "model_module": "@jupyter-widgets/controls",
          "model_name": "FloatProgressModel",
          "state": {
            "_view_name": "ProgressView",
            "style": "IPY_MODEL_8a7084c4d597400fad52b84bdf300c8c",
            "_dom_classes": [],
            "description": "",
            "_model_name": "FloatProgressModel",
            "bar_style": "success",
            "max": 170498071,
            "_view_module": "@jupyter-widgets/controls",
            "_model_module_version": "1.5.0",
            "value": 170498071,
            "_view_count": null,
            "_view_module_version": "1.5.0",
            "orientation": "horizontal",
            "min": 0,
            "description_tooltip": null,
            "_model_module": "@jupyter-widgets/controls",
            "layout": "IPY_MODEL_17e8d7dcbfab45b7acac18ce2da12340"
          }
        },
        "b4c0c27f732449c6b6ea03e7ba066af7": {
          "model_module": "@jupyter-widgets/controls",
          "model_name": "HTMLModel",
          "state": {
            "_view_name": "HTMLView",
            "style": "IPY_MODEL_a74125c6272d4adabf1fd7901eed2688",
            "_dom_classes": [],
            "description": "",
            "_model_name": "HTMLModel",
            "placeholder": "​",
            "_view_module": "@jupyter-widgets/controls",
            "_model_module_version": "1.5.0",
            "value": " 170499072/? [06:23&lt;00:00, 444304.40it/s]",
            "_view_count": null,
            "_view_module_version": "1.5.0",
            "description_tooltip": null,
            "_model_module": "@jupyter-widgets/controls",
            "layout": "IPY_MODEL_b9f60046d29a4fcab3a84c1287f1fd84"
          }
        },
        "8a7084c4d597400fad52b84bdf300c8c": {
          "model_module": "@jupyter-widgets/controls",
          "model_name": "ProgressStyleModel",
          "state": {
            "_view_name": "StyleView",
            "_model_name": "ProgressStyleModel",
            "description_width": "initial",
            "_view_module": "@jupyter-widgets/base",
            "_model_module_version": "1.5.0",
            "_view_count": null,
            "_view_module_version": "1.2.0",
            "bar_color": null,
            "_model_module": "@jupyter-widgets/controls"
          }
        },
        "17e8d7dcbfab45b7acac18ce2da12340": {
          "model_module": "@jupyter-widgets/base",
          "model_name": "LayoutModel",
          "state": {
            "_view_name": "LayoutView",
            "grid_template_rows": null,
            "right": null,
            "justify_content": null,
            "_view_module": "@jupyter-widgets/base",
            "overflow": null,
            "_model_module_version": "1.2.0",
            "_view_count": null,
            "flex_flow": null,
            "width": null,
            "min_width": null,
            "border": null,
            "align_items": null,
            "bottom": null,
            "_model_module": "@jupyter-widgets/base",
            "top": null,
            "grid_column": null,
            "overflow_y": null,
            "overflow_x": null,
            "grid_auto_flow": null,
            "grid_area": null,
            "grid_template_columns": null,
            "flex": null,
            "_model_name": "LayoutModel",
            "justify_items": null,
            "grid_row": null,
            "max_height": null,
            "align_content": null,
            "visibility": null,
            "align_self": null,
            "height": null,
            "min_height": null,
            "padding": null,
            "grid_auto_rows": null,
            "grid_gap": null,
            "max_width": null,
            "order": null,
            "_view_module_version": "1.2.0",
            "grid_template_areas": null,
            "object_position": null,
            "object_fit": null,
            "grid_auto_columns": null,
            "margin": null,
            "display": null,
            "left": null
          }
        },
        "a74125c6272d4adabf1fd7901eed2688": {
          "model_module": "@jupyter-widgets/controls",
          "model_name": "DescriptionStyleModel",
          "state": {
            "_view_name": "StyleView",
            "_model_name": "DescriptionStyleModel",
            "description_width": "",
            "_view_module": "@jupyter-widgets/base",
            "_model_module_version": "1.5.0",
            "_view_count": null,
            "_view_module_version": "1.2.0",
            "_model_module": "@jupyter-widgets/controls"
          }
        },
        "b9f60046d29a4fcab3a84c1287f1fd84": {
          "model_module": "@jupyter-widgets/base",
          "model_name": "LayoutModel",
          "state": {
            "_view_name": "LayoutView",
            "grid_template_rows": null,
            "right": null,
            "justify_content": null,
            "_view_module": "@jupyter-widgets/base",
            "overflow": null,
            "_model_module_version": "1.2.0",
            "_view_count": null,
            "flex_flow": null,
            "width": null,
            "min_width": null,
            "border": null,
            "align_items": null,
            "bottom": null,
            "_model_module": "@jupyter-widgets/base",
            "top": null,
            "grid_column": null,
            "overflow_y": null,
            "overflow_x": null,
            "grid_auto_flow": null,
            "grid_area": null,
            "grid_template_columns": null,
            "flex": null,
            "_model_name": "LayoutModel",
            "justify_items": null,
            "grid_row": null,
            "max_height": null,
            "align_content": null,
            "visibility": null,
            "align_self": null,
            "height": null,
            "min_height": null,
            "padding": null,
            "grid_auto_rows": null,
            "grid_gap": null,
            "max_width": null,
            "order": null,
            "_view_module_version": "1.2.0",
            "grid_template_areas": null,
            "object_position": null,
            "object_fit": null,
            "grid_auto_columns": null,
            "margin": null,
            "display": null,
            "left": null
          }
        }
      }
    }
  },
  "cells": [
    {
      "cell_type": "code",
      "metadata": {
        "id": "bDPiuJAugxy1"
      },
      "source": [
        "# import necessary library\n",
        "import numpy as np\n",
        "import matplotlib\n",
        "import matplotlib.pyplot as plt\n",
        "import seaborn as sns\n",
        "import pandas as pd\n",
        "import torch\n",
        "import torch.nn.functional as F\n",
        "import torchvision as tv"
      ],
      "execution_count": null,
      "outputs": []
    },
    {
      "cell_type": "code",
      "metadata": {
        "colab": {
          "base_uri": "https://localhost:8080/",
          "height": 117,
          "referenced_widgets": [
            "0b637c4590ac4064bba86d45c4f250a0",
            "4056cb4a979943648bcf4bf3f1b3248d",
            "6b88ba4443764c9a8db291f5503e537d",
            "b4c0c27f732449c6b6ea03e7ba066af7",
            "8a7084c4d597400fad52b84bdf300c8c",
            "17e8d7dcbfab45b7acac18ce2da12340",
            "a74125c6272d4adabf1fd7901eed2688",
            "b9f60046d29a4fcab3a84c1287f1fd84"
          ]
        },
        "id": "Uov5Ap5xhbe4",
        "outputId": "15d8e2ac-61f3-4450-8c9d-1dd7a4900152"
      },
      "source": [
        "# download data CIFAR10\n",
        "train_dataset = tv.datasets.CIFAR10(root = \"./\",train=True,transform=tv.transforms.ToTensor(),download=True)\n",
        "test_dataset = tv.datasets.CIFAR10(root = \"./\",train=False,transform=tv.transforms.ToTensor(),download=True)\n",
        "train_loader = torch.utils.data.DataLoader(dataset=train_dataset,batch_size=20,shuffle=True)\n",
        "test_loader = torch.utils.data.DataLoader(dataset=test_dataset,batch_size =20,shuffle=False)"
      ],
      "execution_count": null,
      "outputs": [
        {
          "output_type": "stream",
          "text": [
            "Downloading https://www.cs.toronto.edu/~kriz/cifar-10-python.tar.gz to ./cifar-10-python.tar.gz\n"
          ],
          "name": "stdout"
        },
        {
          "output_type": "display_data",
          "data": {
            "application/vnd.jupyter.widget-view+json": {
              "model_id": "0b637c4590ac4064bba86d45c4f250a0",
              "version_minor": 0,
              "version_major": 2
            },
            "text/plain": [
              "HBox(children=(FloatProgress(value=0.0, max=170498071.0), HTML(value='')))"
            ]
          },
          "metadata": {
            "tags": []
          }
        },
        {
          "output_type": "stream",
          "text": [
            "\n",
            "Extracting ./cifar-10-python.tar.gz to ./\n",
            "Files already downloaded and verified\n"
          ],
          "name": "stdout"
        }
      ]
    },
    {
      "cell_type": "code",
      "metadata": {
        "id": "sIcZPpI3hbXy"
      },
      "source": [
        "# setting\n",
        "MODELNAME = 'cifar10.model'\n",
        "EPOCH = 30\n",
        "DEVICE = \"cuda\" if torch.cuda.is_available() else \"cpu\""
      ],
      "execution_count": null,
      "outputs": []
    },
    {
      "cell_type": "code",
      "metadata": {
        "id": "6mQurEx6hbVg"
      },
      "source": [
        "cfg = {\n",
        "    'VGG11': [64, 'M', 128, 'M', 256, 256, 'M', 512, 512, 'M', 512, 512, 'M'],\n",
        "    'VGG13': [64, 64, 'M', 128, 128, 'M', 256, 256, 'M', 512, 512, 'M', 512, 512, 'M'],\n",
        "    'VGG16': [64, 64, 'M', 128, 128, 'M', 256, 256, 256, 'M', 512, 512, 512, 'M', 512, 512, 512, 'M'],\n",
        "    'VGG19': [64, 64, 'M', 128, 128, 'M', 256, 256, 256, 256, 'M', 512, 512, 512, 512, 'M', 512, 512, 512, 512, 'M'],\n",
        "}"
      ],
      "execution_count": null,
      "outputs": []
    },
    {
      "cell_type": "code",
      "metadata": {
        "id": "qR1KizdThbS-"
      },
      "source": [
        "# setting model \n",
        "class VGG_1LAYER(torch.nn.Module):\n",
        "    def __init__(self,cfg,name):\n",
        "        super(VGG_1LAYER,self).__init__()\n",
        "        self.features = self._make_layers(cfg[name])\n",
        "        self.classifier = torch.nn.Linear(512, 10)\n",
        "    def forward(self, x):\n",
        "        y = self.features(x)\n",
        "        y = y.view(y.size(0), -1)\n",
        "        y = self.classifier(y)\n",
        "        return y\n",
        "    def _make_layers(self, cfg):\n",
        "        layers = []\n",
        "        in_channels = 3\n",
        "        for x in cfg:\n",
        "            if x == 'M':\n",
        "                layers += [torch.nn.MaxPool2d(kernel_size=2, stride=2)]\n",
        "            else:\n",
        "                layers += [torch.nn.Conv2d(in_channels, x, kernel_size=3, padding=1),\n",
        "                           torch.nn.BatchNorm2d(x),\n",
        "                           torch.nn.ReLU(inplace=True)]\n",
        "                in_channels = x\n",
        "        layers += [torch.nn.AvgPool2d(kernel_size=1, stride=1)]\n",
        "        return torch.nn.Sequential(*layers)\n",
        "\n",
        "\n",
        "class VGG_2LAYER(torch.nn.Module):\n",
        "    def __init__(self,cfg,name):\n",
        "        super(VGG_2LAYER,self).__init__()\n",
        "        self.features = self._make_layers(cfg[name])\n",
        "        self.classifier1 = torch.nn.Linear(512, 100)\n",
        "        self.classifier2 = torch.nn.Linear(100, 10)\n",
        "    def forward(self, x):\n",
        "        y = self.features(x)\n",
        "        y = y.view(y.size(0), -1)\n",
        "        y = self.classifier1(y)\n",
        "        y = self.classifier2(y)\n",
        "        return y\n",
        "    def _make_layers(self, cfg):\n",
        "        layers = []\n",
        "        in_channels = 3\n",
        "        for x in cfg:\n",
        "            if x == 'M':\n",
        "                layers += [torch.nn.MaxPool2d(kernel_size=2, stride=2)]\n",
        "            else:\n",
        "                layers += [torch.nn.Conv2d(in_channels, x, kernel_size=3, padding=1),\n",
        "                           torch.nn.BatchNorm2d(x),\n",
        "                           torch.nn.ReLU(inplace=True)]\n",
        "                in_channels = x\n",
        "        layers += [torch.nn.AvgPool2d(kernel_size=1, stride=1)]\n",
        "        return torch.nn.Sequential(*layers)\n",
        "\n",
        "\n",
        "\n",
        "class VGG_3LAYER(torch.nn.Module):\n",
        "    def __init__(self,cfg,name):\n",
        "        super(VGG_3LAYER,self).__init__()\n",
        "        self.features = self._make_layers(cfg[name])\n",
        "        self.classifier1 = torch.nn.Linear(512, 200)\n",
        "        self.classifier2 = torch.nn.Linear(200, 100)\n",
        "        self.classifier3 = torch.nn.Linear(100, 10)\n",
        "    def forward(self, x):\n",
        "        y = self.features(x)\n",
        "        y = y.view(y.size(0), -1)\n",
        "        y = self.classifier1(y)\n",
        "        y = self.classifier2(y)\n",
        "        y = self.classifier3(y)\n",
        "        return y\n",
        "    def _make_layers(self, cfg):\n",
        "        layers = []\n",
        "        in_channels = 3\n",
        "        for x in cfg:\n",
        "            if x == 'M':\n",
        "                layers += [torch.nn.MaxPool2d(kernel_size=2, stride=2)]\n",
        "            else:\n",
        "                layers += [torch.nn.Conv2d(in_channels, x, kernel_size=3, padding=1),\n",
        "                           torch.nn.BatchNorm2d(x),\n",
        "                           torch.nn.ReLU(inplace=True)]\n",
        "                in_channels = x\n",
        "        layers += [torch.nn.AvgPool2d(kernel_size=1, stride=1)]\n",
        "        return torch.nn.Sequential(*layers)"
      ],
      "execution_count": null,
      "outputs": []
    },
    {
      "cell_type": "code",
      "metadata": {
        "id": "Pp4CN5rzhbQw"
      },
      "source": [
        "list_loss1=[]\n",
        "list_accuracy1=[]\n",
        "\n",
        "# train function\n",
        "def train_1layer(cfg,name):\n",
        "    model = VGG_1LAYER(cfg,name).to(DEVICE)\n",
        "    optimizer = torch.optim.Adam(model.parameters())\n",
        "    for epoch in range(EPOCH):\n",
        "        loss = 0\n",
        "        for images, labels in train_loader:\n",
        "            images = images.view(-1,3,32,32).to(DEVICE)\n",
        "            labels = labels.to(DEVICE)\n",
        "            optimizer.zero_grad()\n",
        "            y = model(images)\n",
        "            batchloss = F.cross_entropy(y, labels)\n",
        "            batchloss.backward()\n",
        "            optimizer.step()\n",
        "            loss = loss + batchloss.item()\n",
        "        list_loss1.append(loss)\n",
        "        print(\"Epoch\",epoch, \"Loss:\",loss)\n",
        "        torch.save(model.state_dict(), str(MODELNAME))\n",
        "        list_accuracy1.append(test_1layer(str(MODELNAME)))"
      ],
      "execution_count": null,
      "outputs": []
    },
    {
      "cell_type": "code",
      "metadata": {
        "id": "STAghyWYGMez"
      },
      "source": [
        "list_loss2=[]\n",
        "list_accuracy2=[]\n",
        "\n",
        "# train function\n",
        "def train_2layer(cfg,name):\n",
        "    model = VGG_2LAYER(cfg,name).to(DEVICE)\n",
        "    optimizer = torch.optim.Adam(model.parameters())\n",
        "    for epoch in range(EPOCH):\n",
        "        loss = 0\n",
        "        for images, labels in train_loader:\n",
        "            images = images.view(-1,3,32,32).to(DEVICE)\n",
        "            labels = labels.to(DEVICE)\n",
        "            optimizer.zero_grad()\n",
        "            y = model(images)\n",
        "            batchloss = F.cross_entropy(y, labels)\n",
        "            batchloss.backward()\n",
        "            optimizer.step()\n",
        "            loss = loss + batchloss.item()\n",
        "        list_loss2.append(loss)\n",
        "        print(\"Epoch\",epoch, \"Loss:\",loss)\n",
        "        torch.save(model.state_dict(), str(MODELNAME))\n",
        "        list_accuracy2.append(test_2layer(str(MODELNAME)))"
      ],
      "execution_count": null,
      "outputs": []
    },
    {
      "cell_type": "code",
      "metadata": {
        "id": "ywx27944o0iG"
      },
      "source": [
        "list_loss3=[]\n",
        "list_accuracy3=[]\n",
        "\n",
        "# train function\n",
        "def train_3layer(cfg,name):\n",
        "    model = VGG_3LAYER(cfg,name).to(DEVICE)\n",
        "    optimizer = torch.optim.Adam(model.parameters())\n",
        "    for epoch in range(EPOCH):\n",
        "        loss = 0\n",
        "        for images, labels in train_loader:\n",
        "            images = images.view(-1,3,32,32).to(DEVICE)\n",
        "            labels = labels.to(DEVICE)\n",
        "            optimizer.zero_grad()\n",
        "            y = model(images)\n",
        "            batchloss = F.cross_entropy(y, labels)\n",
        "            batchloss.backward()\n",
        "            optimizer.step()\n",
        "            loss = loss + batchloss.item()\n",
        "        list_loss3.append(loss)\n",
        "        print(\"Epoch\",epoch, \"Loss:\",loss)\n",
        "        torch.save(model.state_dict(), str(MODELNAME))\n",
        "        list_accuracy3.append(test_3layer(str(MODELNAME)))"
      ],
      "execution_count": null,
      "outputs": []
    },
    {
      "cell_type": "code",
      "metadata": {
        "id": "d-kItYIyhbMA"
      },
      "source": [
        "# test function\n",
        "def test_1layer(model_name):\n",
        "    total = len(test_loader.dataset)\n",
        "    correct = 0\n",
        "    model = VGG_1LAYER(cfg,\"VGG16\").to(DEVICE)\n",
        "    model.load_state_dict(torch.load(model_name))\n",
        "    model.eval()\n",
        "    for images, labels in test_loader:\n",
        "        images = images.view(-1,3,32,32).to(DEVICE)\n",
        "        labels = labels.to(DEVICE)\n",
        "        y = model(images)\n",
        "        pred_labels = y.max(dim = 1)[1]\n",
        "        correct = correct + (pred_labels == labels).sum()\n",
        "    print(\"Correct: \",correct.item())\n",
        "    print(\"Total:\",total)\n",
        "    print(\"Accuracy:\", (correct.item()/float(total)))\n",
        "    return (correct.item()/float(total))"
      ],
      "execution_count": null,
      "outputs": []
    },
    {
      "cell_type": "code",
      "metadata": {
        "id": "ybTLQI9iGGZd"
      },
      "source": [
        "# test function\n",
        "def test_2layer(model_name):\n",
        "    total = len(test_loader.dataset)\n",
        "    correct = 0\n",
        "    model = VGG_2LAYER(cfg,\"VGG16\").to(DEVICE)\n",
        "    model.load_state_dict(torch.load(model_name))\n",
        "    model.eval()\n",
        "    for images, labels in test_loader:\n",
        "        images = images.view(-1,3,32,32).to(DEVICE)\n",
        "        labels = labels.to(DEVICE)\n",
        "        y = model(images)\n",
        "        pred_labels = y.max(dim = 1)[1]\n",
        "        correct = correct + (pred_labels == labels).sum()\n",
        "    print(\"Correct: \",correct.item())\n",
        "    print(\"Total:\",total)\n",
        "    print(\"Accuracy:\", (correct.item()/float(total)))\n",
        "    return (correct.item()/float(total))"
      ],
      "execution_count": null,
      "outputs": []
    },
    {
      "cell_type": "code",
      "metadata": {
        "id": "JZL7R4wXo5ae"
      },
      "source": [
        "# test function\n",
        "def test_3layer(model_name):\n",
        "    total = len(test_loader.dataset)\n",
        "    correct = 0\n",
        "    model = VGG_3LAYER(cfg,\"VGG16\").to(DEVICE)\n",
        "    model.load_state_dict(torch.load(model_name))\n",
        "    model.eval()\n",
        "    for images, labels in test_loader:\n",
        "        images = images.view(-1,3,32,32).to(DEVICE)\n",
        "        labels = labels.to(DEVICE)\n",
        "        y = model(images)\n",
        "        pred_labels = y.max(dim = 1)[1]\n",
        "        correct = correct + (pred_labels == labels).sum()\n",
        "    print(\"Correct: \",correct.item())\n",
        "    print(\"Total:\",total)\n",
        "    print(\"Accuracy:\", (correct.item()/float(total)))\n",
        "    return (correct.item()/float(total))"
      ],
      "execution_count": null,
      "outputs": []
    },
    {
      "cell_type": "code",
      "metadata": {
        "colab": {
          "base_uri": "https://localhost:8080/"
        },
        "id": "Fy-Azgl6hbJx",
        "outputId": "87b492b9-27fb-4fe1-b7cb-7a7d2062146a"
      },
      "source": [
        "train_1layer(cfg,\"VGG16\")"
      ],
      "execution_count": null,
      "outputs": [
        {
          "output_type": "stream",
          "text": [
            "/usr/local/lib/python3.7/dist-packages/torch/nn/functional.py:718: UserWarning: Named tensors and all their associated APIs are an experimental feature and subject to change. Please do not use them for anything important until they are released as stable. (Triggered internally at  /pytorch/c10/core/TensorImpl.h:1156.)\n",
            "  return torch.max_pool2d(input, kernel_size, stride, padding, dilation, ceil_mode)\n"
          ],
          "name": "stderr"
        },
        {
          "output_type": "stream",
          "text": [
            "Epoch 0 Loss: 4126.351665318012\n",
            "Correct:  4898\n",
            "Total: 10000\n",
            "Accuracy: 0.4898\n",
            "Epoch 1 Loss: 2718.342435389757\n",
            "Correct:  6127\n",
            "Total: 10000\n",
            "Accuracy: 0.6127\n",
            "Epoch 2 Loss: 2121.764841079712\n",
            "Correct:  6987\n",
            "Total: 10000\n",
            "Accuracy: 0.6987\n",
            "Epoch 3 Loss: 1694.978852212429\n",
            "Correct:  7878\n",
            "Total: 10000\n",
            "Accuracy: 0.7878\n",
            "Epoch 4 Loss: 1394.779020436108\n",
            "Correct:  8005\n",
            "Total: 10000\n",
            "Accuracy: 0.8005\n",
            "Epoch 5 Loss: 1160.230489216745\n",
            "Correct:  7909\n",
            "Total: 10000\n",
            "Accuracy: 0.7909\n",
            "Epoch 6 Loss: 955.6176755540073\n",
            "Correct:  8258\n",
            "Total: 10000\n",
            "Accuracy: 0.8258\n",
            "Epoch 7 Loss: 784.1031864862889\n",
            "Correct:  8290\n",
            "Total: 10000\n",
            "Accuracy: 0.829\n",
            "Epoch 8 Loss: 645.8827979164198\n",
            "Correct:  8456\n",
            "Total: 10000\n",
            "Accuracy: 0.8456\n",
            "Epoch 9 Loss: 522.4024062622339\n",
            "Correct:  8234\n",
            "Total: 10000\n",
            "Accuracy: 0.8234\n",
            "Epoch 10 Loss: 435.89686363749206\n",
            "Correct:  8339\n",
            "Total: 10000\n",
            "Accuracy: 0.8339\n",
            "Epoch 11 Loss: 358.3598560458049\n",
            "Correct:  8373\n",
            "Total: 10000\n",
            "Accuracy: 0.8373\n",
            "Epoch 12 Loss: 303.8067963270005\n",
            "Correct:  8493\n",
            "Total: 10000\n",
            "Accuracy: 0.8493\n",
            "Epoch 13 Loss: 254.67792683123844\n",
            "Correct:  8381\n",
            "Total: 10000\n",
            "Accuracy: 0.8381\n",
            "Epoch 14 Loss: 231.56532403253368\n",
            "Correct:  8474\n",
            "Total: 10000\n",
            "Accuracy: 0.8474\n",
            "Epoch 15 Loss: 199.5050357443397\n",
            "Correct:  8449\n",
            "Total: 10000\n",
            "Accuracy: 0.8449\n",
            "Epoch 16 Loss: 180.5790457065741\n",
            "Correct:  8373\n",
            "Total: 10000\n",
            "Accuracy: 0.8373\n",
            "Epoch 17 Loss: 161.97459530338529\n",
            "Correct:  8447\n",
            "Total: 10000\n",
            "Accuracy: 0.8447\n",
            "Epoch 18 Loss: 151.47141552610265\n",
            "Correct:  8551\n",
            "Total: 10000\n",
            "Accuracy: 0.8551\n",
            "Epoch 19 Loss: 135.10542368477036\n",
            "Correct:  8545\n",
            "Total: 10000\n",
            "Accuracy: 0.8545\n",
            "Epoch 20 Loss: 131.0041462840054\n",
            "Correct:  8551\n",
            "Total: 10000\n",
            "Accuracy: 0.8551\n",
            "Epoch 21 Loss: 119.69118801051809\n",
            "Correct:  8510\n",
            "Total: 10000\n",
            "Accuracy: 0.851\n",
            "Epoch 22 Loss: 113.35615835953286\n",
            "Correct:  8499\n",
            "Total: 10000\n",
            "Accuracy: 0.8499\n",
            "Epoch 23 Loss: 100.02675612648454\n",
            "Correct:  8615\n",
            "Total: 10000\n",
            "Accuracy: 0.8615\n",
            "Epoch 24 Loss: 106.3940975459991\n",
            "Correct:  8611\n",
            "Total: 10000\n",
            "Accuracy: 0.8611\n",
            "Epoch 25 Loss: 96.77566149243648\n",
            "Correct:  8336\n",
            "Total: 10000\n",
            "Accuracy: 0.8336\n",
            "Epoch 26 Loss: 96.73023931621174\n",
            "Correct:  8407\n",
            "Total: 10000\n",
            "Accuracy: 0.8407\n",
            "Epoch 27 Loss: 91.64928218209025\n",
            "Correct:  8542\n",
            "Total: 10000\n",
            "Accuracy: 0.8542\n",
            "Epoch 28 Loss: 84.39109049060971\n",
            "Correct:  8611\n",
            "Total: 10000\n",
            "Accuracy: 0.8611\n",
            "Epoch 29 Loss: 84.31478783440252\n",
            "Correct:  8613\n",
            "Total: 10000\n",
            "Accuracy: 0.8613\n"
          ],
          "name": "stdout"
        }
      ]
    },
    {
      "cell_type": "code",
      "metadata": {
        "colab": {
          "base_uri": "https://localhost:8080/"
        },
        "id": "yye0C-S0hbHp",
        "outputId": "3aeeb7f6-8317-46ff-da91-d1e5f185fb66"
      },
      "source": [
        "test_1layer(str(MODELNAME))"
      ],
      "execution_count": null,
      "outputs": [
        {
          "output_type": "stream",
          "text": [
            "Correct:  8613\n",
            "Total: 10000\n",
            "Accuracy: 0.8613\n"
          ],
          "name": "stdout"
        },
        {
          "output_type": "execute_result",
          "data": {
            "text/plain": [
              "0.8613"
            ]
          },
          "metadata": {
            "tags": []
          },
          "execution_count": 13
        }
      ]
    },
    {
      "cell_type": "code",
      "metadata": {
        "colab": {
          "base_uri": "https://localhost:8080/"
        },
        "id": "6GnaosJoGmql",
        "outputId": "cb0faa8e-eab0-4bdd-8eb7-15cf0d230441"
      },
      "source": [
        "train_2layer(cfg,\"VGG16\")"
      ],
      "execution_count": null,
      "outputs": [
        {
          "output_type": "stream",
          "text": [
            "Epoch 0 Loss: 4352.605453073978\n",
            "Correct:  4139\n",
            "Total: 10000\n",
            "Accuracy: 0.4139\n",
            "Epoch 1 Loss: 3029.620086848736\n",
            "Correct:  5749\n",
            "Total: 10000\n",
            "Accuracy: 0.5749\n",
            "Epoch 2 Loss: 2376.5962529182434\n",
            "Correct:  6965\n",
            "Total: 10000\n",
            "Accuracy: 0.6965\n",
            "Epoch 3 Loss: 1930.8297021836042\n",
            "Correct:  7301\n",
            "Total: 10000\n",
            "Accuracy: 0.7301\n",
            "Epoch 4 Loss: 1586.9345594495535\n",
            "Correct:  7614\n",
            "Total: 10000\n",
            "Accuracy: 0.7614\n",
            "Epoch 5 Loss: 1319.8025358095765\n",
            "Correct:  7714\n",
            "Total: 10000\n",
            "Accuracy: 0.7714\n",
            "Epoch 6 Loss: 1111.0303102098405\n",
            "Correct:  8202\n",
            "Total: 10000\n",
            "Accuracy: 0.8202\n",
            "Epoch 7 Loss: 942.9007509928197\n",
            "Correct:  8353\n",
            "Total: 10000\n",
            "Accuracy: 0.8353\n",
            "Epoch 8 Loss: 788.113081167452\n",
            "Correct:  8417\n",
            "Total: 10000\n",
            "Accuracy: 0.8417\n",
            "Epoch 9 Loss: 657.6212719911709\n",
            "Correct:  8323\n",
            "Total: 10000\n",
            "Accuracy: 0.8323\n",
            "Epoch 10 Loss: 553.5201899777167\n",
            "Correct:  8230\n",
            "Total: 10000\n",
            "Accuracy: 0.823\n",
            "Epoch 11 Loss: 474.38994396314956\n",
            "Correct:  8321\n",
            "Total: 10000\n",
            "Accuracy: 0.8321\n",
            "Epoch 12 Loss: 391.5641756923869\n",
            "Correct:  8457\n",
            "Total: 10000\n",
            "Accuracy: 0.8457\n",
            "Epoch 13 Loss: 322.80893369333353\n",
            "Correct:  8263\n",
            "Total: 10000\n",
            "Accuracy: 0.8263\n",
            "Epoch 14 Loss: 294.14506545767654\n",
            "Correct:  8322\n",
            "Total: 10000\n",
            "Accuracy: 0.8322\n",
            "Epoch 15 Loss: 252.88219917938113\n",
            "Correct:  8401\n",
            "Total: 10000\n",
            "Accuracy: 0.8401\n",
            "Epoch 16 Loss: 223.73215245548636\n",
            "Correct:  8511\n",
            "Total: 10000\n",
            "Accuracy: 0.8511\n",
            "Epoch 17 Loss: 211.50104002212174\n",
            "Correct:  8514\n",
            "Total: 10000\n",
            "Accuracy: 0.8514\n",
            "Epoch 18 Loss: 177.36991283067618\n",
            "Correct:  8253\n",
            "Total: 10000\n",
            "Accuracy: 0.8253\n",
            "Epoch 19 Loss: 176.44665719900513\n",
            "Correct:  8514\n",
            "Total: 10000\n",
            "Accuracy: 0.8514\n",
            "Epoch 20 Loss: 154.187630598346\n",
            "Correct:  8420\n",
            "Total: 10000\n",
            "Accuracy: 0.842\n",
            "Epoch 21 Loss: 149.16019484995923\n",
            "Correct:  8467\n",
            "Total: 10000\n",
            "Accuracy: 0.8467\n",
            "Epoch 22 Loss: 140.4218240181217\n",
            "Correct:  8499\n",
            "Total: 10000\n",
            "Accuracy: 0.8499\n",
            "Epoch 23 Loss: 129.79671654701815\n",
            "Correct:  8524\n",
            "Total: 10000\n",
            "Accuracy: 0.8524\n",
            "Epoch 24 Loss: 125.78482537419768\n",
            "Correct:  8378\n",
            "Total: 10000\n",
            "Accuracy: 0.8378\n",
            "Epoch 25 Loss: 122.11181043536635\n",
            "Correct:  8549\n",
            "Total: 10000\n",
            "Accuracy: 0.8549\n",
            "Epoch 26 Loss: 107.79726714074059\n",
            "Correct:  8539\n",
            "Total: 10000\n",
            "Accuracy: 0.8539\n",
            "Epoch 27 Loss: 100.50025749591077\n",
            "Correct:  8564\n",
            "Total: 10000\n",
            "Accuracy: 0.8564\n",
            "Epoch 28 Loss: 111.45269611983531\n",
            "Correct:  8574\n",
            "Total: 10000\n",
            "Accuracy: 0.8574\n",
            "Epoch 29 Loss: 99.24231303687702\n",
            "Correct:  8472\n",
            "Total: 10000\n",
            "Accuracy: 0.8472\n"
          ],
          "name": "stdout"
        }
      ]
    },
    {
      "cell_type": "code",
      "metadata": {
        "colab": {
          "base_uri": "https://localhost:8080/"
        },
        "id": "kQzS-TZyGmQi",
        "outputId": "5251d60b-ff48-4353-ec2e-cd1da1a2afcb"
      },
      "source": [
        "test_2layer(str(MODELNAME))"
      ],
      "execution_count": null,
      "outputs": [
        {
          "output_type": "stream",
          "text": [
            "Correct:  8472\n",
            "Total: 10000\n",
            "Accuracy: 0.8472\n"
          ],
          "name": "stdout"
        },
        {
          "output_type": "execute_result",
          "data": {
            "text/plain": [
              "0.8472"
            ]
          },
          "metadata": {
            "tags": []
          },
          "execution_count": 15
        }
      ]
    },
    {
      "cell_type": "code",
      "metadata": {
        "colab": {
          "base_uri": "https://localhost:8080/"
        },
        "id": "GBA7vyaIo-xh",
        "outputId": "3678f460-fc48-4989-a486-f3525d16c8b5"
      },
      "source": [
        "train_3layer(cfg,\"VGG16\")"
      ],
      "execution_count": null,
      "outputs": [
        {
          "output_type": "stream",
          "text": [
            "Epoch 0 Loss: 4550.918723344803\n",
            "Correct:  3703\n",
            "Total: 10000\n",
            "Accuracy: 0.3703\n",
            "Epoch 1 Loss: 3214.993635237217\n",
            "Correct:  6197\n",
            "Total: 10000\n",
            "Accuracy: 0.6197\n",
            "Epoch 2 Loss: 2463.5508176386356\n",
            "Correct:  6945\n",
            "Total: 10000\n",
            "Accuracy: 0.6945\n",
            "Epoch 3 Loss: 1997.353444814682\n",
            "Correct:  7276\n",
            "Total: 10000\n",
            "Accuracy: 0.7276\n",
            "Epoch 4 Loss: 1668.681842803955\n",
            "Correct:  7803\n",
            "Total: 10000\n",
            "Accuracy: 0.7803\n",
            "Epoch 5 Loss: 1396.7579198405147\n",
            "Correct:  8089\n",
            "Total: 10000\n",
            "Accuracy: 0.8089\n",
            "Epoch 6 Loss: 1171.564576227218\n",
            "Correct:  8109\n",
            "Total: 10000\n",
            "Accuracy: 0.8109\n",
            "Epoch 7 Loss: 995.4911542255431\n",
            "Correct:  8191\n",
            "Total: 10000\n",
            "Accuracy: 0.8191\n",
            "Epoch 8 Loss: 844.8201520144939\n",
            "Correct:  8237\n",
            "Total: 10000\n",
            "Accuracy: 0.8237\n",
            "Epoch 9 Loss: 705.1381749436259\n",
            "Correct:  8325\n",
            "Total: 10000\n",
            "Accuracy: 0.8325\n",
            "Epoch 10 Loss: 591.3795203734189\n",
            "Correct:  8313\n",
            "Total: 10000\n",
            "Accuracy: 0.8313\n",
            "Epoch 11 Loss: 502.66788962855935\n",
            "Correct:  8253\n",
            "Total: 10000\n",
            "Accuracy: 0.8253\n",
            "Epoch 12 Loss: 418.0894282304216\n",
            "Correct:  8365\n",
            "Total: 10000\n",
            "Accuracy: 0.8365\n",
            "Epoch 13 Loss: 369.64755217102356\n",
            "Correct:  8452\n",
            "Total: 10000\n",
            "Accuracy: 0.8452\n",
            "Epoch 14 Loss: 318.9200708590215\n",
            "Correct:  8327\n",
            "Total: 10000\n",
            "Accuracy: 0.8327\n",
            "Epoch 15 Loss: 276.02439766866155\n",
            "Correct:  8308\n",
            "Total: 10000\n",
            "Accuracy: 0.8308\n",
            "Epoch 16 Loss: 242.47776129411068\n",
            "Correct:  8402\n",
            "Total: 10000\n",
            "Accuracy: 0.8402\n",
            "Epoch 17 Loss: 223.03495356603526\n",
            "Correct:  8430\n",
            "Total: 10000\n",
            "Accuracy: 0.843\n",
            "Epoch 18 Loss: 198.33956084866077\n",
            "Correct:  8380\n",
            "Total: 10000\n",
            "Accuracy: 0.838\n",
            "Epoch 19 Loss: 178.83743396532373\n",
            "Correct:  8501\n",
            "Total: 10000\n",
            "Accuracy: 0.8501\n",
            "Epoch 20 Loss: 178.75563694513403\n",
            "Correct:  8439\n",
            "Total: 10000\n",
            "Accuracy: 0.8439\n",
            "Epoch 21 Loss: 167.42738460341934\n",
            "Correct:  8513\n",
            "Total: 10000\n",
            "Accuracy: 0.8513\n",
            "Epoch 22 Loss: 147.41162611707114\n",
            "Correct:  8479\n",
            "Total: 10000\n",
            "Accuracy: 0.8479\n",
            "Epoch 23 Loss: 141.2041994067913\n",
            "Correct:  8442\n",
            "Total: 10000\n",
            "Accuracy: 0.8442\n",
            "Epoch 24 Loss: 139.83032080333214\n",
            "Correct:  8468\n",
            "Total: 10000\n",
            "Accuracy: 0.8468\n",
            "Epoch 25 Loss: 124.99634147436154\n",
            "Correct:  8425\n",
            "Total: 10000\n",
            "Accuracy: 0.8425\n",
            "Epoch 26 Loss: 124.91528259097686\n",
            "Correct:  8416\n",
            "Total: 10000\n",
            "Accuracy: 0.8416\n",
            "Epoch 27 Loss: 112.70295290396461\n",
            "Correct:  8504\n",
            "Total: 10000\n",
            "Accuracy: 0.8504\n",
            "Epoch 28 Loss: 113.97867663235229\n",
            "Correct:  8497\n",
            "Total: 10000\n",
            "Accuracy: 0.8497\n",
            "Epoch 29 Loss: 106.23403021021659\n",
            "Correct:  8521\n",
            "Total: 10000\n",
            "Accuracy: 0.8521\n"
          ],
          "name": "stdout"
        }
      ]
    },
    {
      "cell_type": "code",
      "metadata": {
        "colab": {
          "base_uri": "https://localhost:8080/"
        },
        "id": "dCF6AnC4o-Yo",
        "outputId": "48286971-3835-40e1-a2c0-a7bec959c29a"
      },
      "source": [
        "test_3layer(str(MODELNAME))"
      ],
      "execution_count": null,
      "outputs": [
        {
          "output_type": "stream",
          "text": [
            "Correct:  8521\n",
            "Total: 10000\n",
            "Accuracy: 0.8521\n"
          ],
          "name": "stdout"
        },
        {
          "output_type": "execute_result",
          "data": {
            "text/plain": [
              "0.8521"
            ]
          },
          "metadata": {
            "tags": []
          },
          "execution_count": 17
        }
      ]
    },
    {
      "cell_type": "code",
      "metadata": {
        "id": "FxbJphmBzVEX"
      },
      "source": [
        "df_ac = pd.DataFrame()\n",
        "df_lo = pd.DataFrame()\n",
        "df_ac[\"1 Layer\"] = list_accuracy1\n",
        "df_ac[\"2 Layer\"] = list_accuracy2\n",
        "df_ac[\"3 Layer\"] = list_accuracy3\n",
        "df_ac = df_ac.reset_index()\n",
        "df_ac.rename(columns={'index':'Epoch'}, inplace=True)\n",
        "df_ac = df_ac.melt(id_vars='Epoch').rename(columns=str.title)\n",
        "df_lo[\"1 Layer\"] = list_loss1\n",
        "df_lo[\"2 Layer\"] = list_loss2\n",
        "df_lo[\"3 Layer\"] = list_loss3\n",
        "df_lo = df_lo.reset_index()\n",
        "df_lo.rename(columns={'index':'Epoch'}, inplace=True)\n",
        "df_lo = df_lo.melt(id_vars='Epoch').rename(columns=str.title)"
      ],
      "execution_count": null,
      "outputs": []
    },
    {
      "cell_type": "code",
      "metadata": {
        "colab": {
          "base_uri": "https://localhost:8080/"
        },
        "id": "vpiUC8wCAgU3",
        "outputId": "ad2be262-28cc-42c1-830e-127bb20f28cf"
      },
      "source": [
        "print(df_ac)\n",
        "print(df_lo)"
      ],
      "execution_count": null,
      "outputs": [
        {
          "output_type": "stream",
          "text": [
            "    Epoch Variable   Value\n",
            "0       0  1 Layer  0.4898\n",
            "1       1  1 Layer  0.6127\n",
            "2       2  1 Layer  0.6987\n",
            "3       3  1 Layer  0.7878\n",
            "4       4  1 Layer  0.8005\n",
            "..    ...      ...     ...\n",
            "85     25  3 Layer  0.8425\n",
            "86     26  3 Layer  0.8416\n",
            "87     27  3 Layer  0.8504\n",
            "88     28  3 Layer  0.8497\n",
            "89     29  3 Layer  0.8521\n",
            "\n",
            "[90 rows x 3 columns]\n",
            "    Epoch Variable        Value\n",
            "0       0  1 Layer  4126.351665\n",
            "1       1  1 Layer  2718.342435\n",
            "2       2  1 Layer  2121.764841\n",
            "3       3  1 Layer  1694.978852\n",
            "4       4  1 Layer  1394.779020\n",
            "..    ...      ...          ...\n",
            "85     25  3 Layer   124.996341\n",
            "86     26  3 Layer   124.915283\n",
            "87     27  3 Layer   112.702953\n",
            "88     28  3 Layer   113.978677\n",
            "89     29  3 Layer   106.234030\n",
            "\n",
            "[90 rows x 3 columns]\n"
          ],
          "name": "stdout"
        }
      ]
    },
    {
      "cell_type": "code",
      "metadata": {
        "id": "tUcbi-MpSrkH"
      },
      "source": [
        "df_ac.rename(columns={'Variable':'Accuracy'}, inplace=True)\n",
        "df_lo.rename(columns={'Variable':'Loss'}, inplace=True)"
      ],
      "execution_count": null,
      "outputs": []
    },
    {
      "cell_type": "code",
      "metadata": {
        "id": "ntIG8jepha-K"
      },
      "source": [
        "# visualization\n",
        "def Visualization(df_lo,df_ac):\n",
        "  matplotlib.rc_file_defaults()\n",
        "  ax1 = sns.set_style(style=None, rc=None )\n",
        "  fig, ax1 = plt.subplots(figsize=(12,6))\n",
        "  g = sns.barplot(x='Epoch', y='Value', hue= 'Loss', data = df_lo, alpha=1, ax=ax1)\n",
        "  ax2 = ax1.twinx()\n",
        "  sns.lineplot(x='Epoch', y='Value', hue= 'Accuracy',data = df_ac, marker='o', ax=ax2)"
      ],
      "execution_count": null,
      "outputs": []
    },
    {
      "cell_type": "code",
      "metadata": {
        "colab": {
          "base_uri": "https://localhost:8080/",
          "height": 54
        },
        "id": "QJ3azqVAha7e",
        "outputId": "1cfffa5b-082c-4eac-8acf-9f6d31868ec8"
      },
      "source": [
        "Visualization(df_lo,df_ac)"
      ],
      "execution_count": null,
      "outputs": [
        {
          "output_type": "display_data",
          "data": {
            "image/png": "[encoded data removed]",
            "text/plain": [
              "<Figure size 1200x600 with 2 Axes>"
            ]
          },
          "metadata": {
            "tags": []
          }
        }
      ]
    }
  ]
}